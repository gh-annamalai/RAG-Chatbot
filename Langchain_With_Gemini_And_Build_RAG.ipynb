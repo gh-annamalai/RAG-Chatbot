{
  "nbformat": 4,
  "nbformat_minor": 0,
  "metadata": {
    "colab": {
      "provenance": [],
      "include_colab_link": true
    },
    "kernelspec": {
      "name": "python3",
      "display_name": "Python 3"
    },
    "language_info": {
      "name": "python"
    }
  },
  "cells": [
    {
      "cell_type": "markdown",
      "metadata": {
        "id": "view-in-github",
        "colab_type": "text"
      },
      "source": [
        "<a href=\"https://colab.research.google.com/github/gh-annamalai/rag-chatbot/blob/main/Langchain_With_Gemini_And_Build_RAG.ipynb\" target=\"_parent\"><img src=\"https://colab.research.google.com/assets/colab-badge.svg\" alt=\"Open In Colab\"/></a>"
      ]
    },
    {
      "cell_type": "code",
      "execution_count": 5,
      "metadata": {
        "id": "wgALz5M7I9dQ"
      },
      "outputs": [],
      "source": [
        "! pip install -q --upgrade google-generativeai langchain-google-genai chromadb pypdf\n"
      ]
    },
    {
      "cell_type": "code",
      "source": [
        "from IPython.display import display\n",
        "from IPython.display import Markdown\n",
        "import textwrap\n",
        "\n",
        "\n",
        "def to_markdown(text):\n",
        "  text = text.replace('•', '  *')\n",
        "  return Markdown(textwrap.indent(text, '> ', predicate=lambda _: True))"
      ],
      "metadata": {
        "id": "ELCq2M4XJ467"
      },
      "execution_count": 6,
      "outputs": []
    },
    {
      "cell_type": "code",
      "source": [
        "import google.generativeai as genai\n",
        "from google.colab import userdata"
      ],
      "metadata": {
        "id": "CHCjBuPHJ-JU"
      },
      "execution_count": 7,
      "outputs": []
    },
    {
      "cell_type": "code",
      "source": [
        "import os\n",
        "GOOGLE_API_KEY=userdata.get('GOOGLE_API_KEY')\n",
        "genai.configure(api_key=GOOGLE_API_KEY)"
      ],
      "metadata": {
        "id": "1cb7x-g7KBBw"
      },
      "execution_count": 8,
      "outputs": []
    },
    {
      "cell_type": "markdown",
      "source": [
        "### Text Generation"
      ],
      "metadata": {
        "id": "3NOFOt74X2Gd"
      }
    },
    {
      "cell_type": "code",
      "source": [
        "model = genai.GenerativeModel(model_name = \"gemini-pro\")\n",
        "model"
      ],
      "metadata": {
        "colab": {
          "base_uri": "https://localhost:8080/"
        },
        "id": "KG_3KsGRKDYU",
        "outputId": "aedca502-0e3e-4ac8-dfbb-79e4303a5c29"
      },
      "execution_count": 9,
      "outputs": [
        {
          "output_type": "execute_result",
          "data": {
            "text/plain": [
              "genai.GenerativeModel(\n",
              "    model_name='models/gemini-pro',\n",
              "    generation_config={},\n",
              "    safety_settings={},\n",
              "    tools=None,\n",
              "    system_instruction=None,\n",
              "    cached_content=None\n",
              ")"
            ]
          },
          "metadata": {},
          "execution_count": 9
        }
      ]
    },
    {
      "cell_type": "code",
      "source": [
        "response = model.generate_content(\"What are the usecases of LLMs?\")"
      ],
      "metadata": {
        "id": "R-2GbIa-KaUb"
      },
      "execution_count": 10,
      "outputs": []
    },
    {
      "cell_type": "code",
      "source": [
        "to_markdown(response.text)"
      ],
      "metadata": {
        "colab": {
          "base_uri": "https://localhost:8080/",
          "height": 567
        },
        "id": "i9TTvRUfKmBg",
        "outputId": "70bc52fd-19f3-4ea1-a385-0a68842ae9b8"
      },
      "execution_count": 11,
      "outputs": [
        {
          "output_type": "execute_result",
          "data": {
            "text/plain": [
              "<IPython.core.display.Markdown object>"
            ],
            "text/markdown": "> **Content Creation and Improvement**\n> \n> * **Text generation:** Creating compelling and informative articles, stories, marketing copy, and more.\n> * **Content summarization:** Condensing long-form content into concise overviews.\n> * **Translation:** Translating text between languages.\n> * **Code generation:** Automating coding tasks and generating code from natural language descriptions.\n> * **Music and art generation:** Composing original music and generating unique artwork.\n> \n> **Search and Information Retrieval**\n> \n> * **Question answering:** Providing answers to natural language queries from large text databases.\n> * **Document search:** Searching for relevant documents based on keywords or semantic similarities.\n> * **Information extraction:** Extracting specific facts and insights from unstructured text.\n> * **Knowledge base creation:** Automating the population of knowledge bases with relevant data.\n> \n> **Automation and Efficiency**\n> \n> * **Customer service automation:** Resolving customer queries and providing support through automated chatbots.\n> * **Data analysis:** Automating data processing, analysis, and report generation.\n> * **Virtual assistants:** Assisting users with tasks such as scheduling appointments, sending emails, and providing information.\n> * **Process optimization:** Identifying and automating repetitive or time-consuming tasks in business processes.\n> \n> **Education and Research**\n> \n> * **Personalized learning:** Creating interactive educational materials tailored to individual learners.\n> * **Academic writing assistance:** Enhancing writing skills and automating tasks like proofreading and grammar checking.\n> * **Research support:** Literature search, data analysis, and hypothesis generation.\n> * **Collaboration and idea exchange:** Facilitating discussions, brainstorming sessions, and knowledge sharing.\n> \n> **Other Usecases**\n> \n> * **Gaming and entertainment:** Creating immersive game experiences, developing dialogue for characters, and generating storylines.\n> * **Healthcare:** Supporting diagnosis, treatment planning, and patient communication.\n> * **E-commerce:** Improving product descriptions, personalizing recommendations, and automating customer engagement.\n> * **Finance:** Analyzing market data, generating financial reports, and automating trading strategies.\n> * **Cybersecurity:** Detecting and mitigating cyber threats, identifying vulnerabilities, and assisting in incident response."
          },
          "metadata": {},
          "execution_count": 11
        }
      ]
    },
    {
      "cell_type": "markdown",
      "source": [
        "### Use LangChain to Access Gemini API"
      ],
      "metadata": {
        "id": "-TbsjM7hK6PR"
      }
    },
    {
      "cell_type": "code",
      "source": [
        "from langchain_google_genai import ChatGoogleGenerativeAI\n"
      ],
      "metadata": {
        "id": "WqdODsdLK8li"
      },
      "execution_count": 12,
      "outputs": []
    },
    {
      "cell_type": "code",
      "source": [
        "llm = ChatGoogleGenerativeAI(model=\"gemini-pro\",google_api_key=GOOGLE_API_KEY)"
      ],
      "metadata": {
        "id": "vknP_oOWK-k7"
      },
      "execution_count": 13,
      "outputs": []
    },
    {
      "cell_type": "code",
      "source": [
        "result = llm.invoke(\"What are the usecases of LLMs?\")\n"
      ],
      "metadata": {
        "id": "hvY2YkFoLDO7"
      },
      "execution_count": 14,
      "outputs": []
    },
    {
      "cell_type": "code",
      "source": [
        "to_markdown(result.content)"
      ],
      "metadata": {
        "colab": {
          "base_uri": "https://localhost:8080/",
          "height": 730
        },
        "id": "ar8KNtZILE47",
        "outputId": "d47a70a5-99a3-44db-c4f5-0905d2bd1c93"
      },
      "execution_count": 15,
      "outputs": [
        {
          "output_type": "execute_result",
          "data": {
            "text/plain": [
              "<IPython.core.display.Markdown object>"
            ],
            "text/markdown": "> **Content Creation**\n> \n> * **Text generation:** Generating articles, stories, marketing copy, social media posts\n> * **Code generation:** Assisting in coding tasks, writing bug-free code\n> * **Translation:** Translating text between different languages\n> * **Chatbot responses:** Automating customer interactions with personalized responses\n> \n> **Research and Analysis**\n> \n> * **Summarization:** Creating concise summaries of documents, articles, or research papers\n> * **Fact checking:** Verifying the accuracy of information\n> * **Data analysis:** Extracting insights from large datasets\n> * **Market research:** Analyzing customer feedback and identifying industry trends\n> \n> **Education and Learning**\n> \n> * **Personalized learning:** Adapting educational content to individual students' needs\n> * **Virtual assistants:** Providing students with real-time support and guidance\n> * **Language learning:** Assisting in vocabulary development and grammar practice\n> * **Historical research:** Analyzing historical texts and uncovering new insights\n> \n> **Entertainment**\n> \n> * **Personalized recommendations:** Suggesting movies, music, or books based on user preferences\n> * **Game development:** Creating interactive and immersive game experiences\n> * **Virtual assistants:** Engaging with users in virtual worlds or games\n> * **Storytelling:** Generating interactive or branching storylines for immersive entertainment\n> \n> **Business and Productivity**\n> \n> * **Email composition:** Writing emails with improved grammar and style\n> * **Meeting summarization:** Generating concise summaries of meetings or calls\n> * **Document analysis:** Extracting key information from contracts, legal documents, or reports\n> * **Customer service:** Automating customer interactions and resolving inquiries\n> \n> **Healthcare**\n> \n> * **Medical diagnosis:** Assisting doctors in diagnosing diseases based on symptoms\n> * **Treatment planning:** Providing personalized treatment recommendations\n> * **Drug discovery:** Identifying potential drug candidates for further research\n> * **Patient monitoring:** Tracking health data and providing early warnings of potential issues\n> \n> **Other**\n> \n> * **Social impact:** Addressing problems such as fake news, hate speech, and misinformation\n> * **Environmental monitoring:** Analyzing data to track pollution levels or predict weather patterns\n> * **Financial analysis:** Forecasting stock prices or identifying investment opportunities\n> * **Scientific research:** Automating data analysis and hypothesis testing"
          },
          "metadata": {},
          "execution_count": 15
        }
      ]
    },
    {
      "cell_type": "code",
      "source": [
        "from google.colab import drive\n",
        "drive.mount('/content/drive')"
      ],
      "metadata": {
        "id": "lPPhIfAmiDg4"
      },
      "execution_count": null,
      "outputs": []
    },
    {
      "cell_type": "markdown",
      "source": [
        "## Chat with Documents using RAG (Retreival Augment Generation)"
      ],
      "metadata": {
        "id": "aVhA3f3GLlQZ"
      }
    },
    {
      "cell_type": "code",
      "source": [
        "import PIL.Image\n",
        "\n",
        "img = PIL.Image.open('/content/rag.png')\n",
        "img"
      ],
      "metadata": {
        "id": "mxEtrGoxQyrD"
      },
      "execution_count": null,
      "outputs": []
    },
    {
      "cell_type": "code",
      "source": [
        "!sudo apt -y -qq install tesseract-ocr libtesseract-dev\n",
        "\n",
        "!sudo apt-get -y -qq install poppler-utils libxml2-dev libxslt1-dev antiword unrtf poppler-utils pstotext tesseract-ocr flac ffmpeg lame libmad0 libsox-fmt-mp3 sox libjpeg-dev swig\n",
        "\n",
        "!pip install langchain"
      ],
      "metadata": {
        "id": "h-14UghOLJHA"
      },
      "execution_count": null,
      "outputs": []
    },
    {
      "cell_type": "code",
      "source": [
        "import urllib\n",
        "import warnings\n",
        "from pathlib import Path as p\n",
        "from pprint import pprint\n",
        "\n",
        "import pandas as pd\n",
        "from langchain import PromptTemplate\n",
        "from langchain.chains.question_answering import load_qa_chain\n",
        "from langchain.document_loaders import PyPDFLoader\n",
        "from langchain.text_splitter import RecursiveCharacterTextSplitter\n",
        "from langchain.vectorstores import Chroma\n",
        "from langchain.chains import RetrievalQA\n",
        "\n",
        "\n",
        "\n",
        "warnings.filterwarnings(\"ignore\")\n",
        "# restart python kernal if issues with langchain import."
      ],
      "metadata": {
        "id": "7EjS_0qMLwyb"
      },
      "execution_count": null,
      "outputs": []
    },
    {
      "cell_type": "code",
      "source": [
        "from langchain_google_genai import ChatGoogleGenerativeAI\n"
      ],
      "metadata": {
        "id": "oBDSBBNRNi8x"
      },
      "execution_count": null,
      "outputs": []
    },
    {
      "cell_type": "code",
      "source": [
        "model = ChatGoogleGenerativeAI(model=\"gemini-pro\",google_api_key=GOOGLE_API_KEY,\n",
        "                             temperature=0.2,convert_system_message_to_human=True)\n"
      ],
      "metadata": {
        "id": "HXXP0LCKN9pD"
      },
      "execution_count": null,
      "outputs": []
    },
    {
      "cell_type": "markdown",
      "source": [
        "### Extract text from the PDF"
      ],
      "metadata": {
        "id": "6fVI3d0BPaPQ"
      }
    },
    {
      "cell_type": "code",
      "source": [
        "pdf_loader = PyPDFLoader(\"/content/attention_is_all_you_need.pdf\")\n",
        "pages = pdf_loader.load_and_split()\n",
        "print(pages[3].page_content)\n"
      ],
      "metadata": {
        "id": "5Kz7Ek2KPKSy"
      },
      "execution_count": null,
      "outputs": []
    },
    {
      "cell_type": "code",
      "source": [
        "len(pages)"
      ],
      "metadata": {
        "id": "c1nOlnQrZHau"
      },
      "execution_count": null,
      "outputs": []
    },
    {
      "cell_type": "markdown",
      "source": [
        "### RAG Pipeline: Embedding + Gemini (LLM)"
      ],
      "metadata": {
        "id": "QQ7OlzvWSRE1"
      }
    },
    {
      "cell_type": "code",
      "source": [
        "from langchain_google_genai import GoogleGenerativeAIEmbeddings"
      ],
      "metadata": {
        "id": "xCLmdnHYdoVx"
      },
      "execution_count": null,
      "outputs": []
    },
    {
      "cell_type": "code",
      "source": [
        "text_splitter = RecursiveCharacterTextSplitter(chunk_size=10000, chunk_overlap=1000)\n",
        "context = \"\\n\\n\".join(str(p.page_content) for p in pages)\n",
        "texts = text_splitter.split_text(context)"
      ],
      "metadata": {
        "id": "5VCQ2XiUSTOl"
      },
      "execution_count": null,
      "outputs": []
    },
    {
      "cell_type": "code",
      "source": [
        "embeddings = GoogleGenerativeAIEmbeddings(model=\"models/embedding-001\",google_api_key=GOOGLE_API_KEY)"
      ],
      "metadata": {
        "id": "oenB_PKkSpr_"
      },
      "execution_count": null,
      "outputs": []
    },
    {
      "cell_type": "code",
      "source": [
        "vector_index = Chroma.from_texts(texts, embeddings).as_retriever(search_kwargs={\"k\":5})\n"
      ],
      "metadata": {
        "id": "zRDgzSjsSZtG"
      },
      "execution_count": null,
      "outputs": []
    },
    {
      "cell_type": "code",
      "source": [
        "qa_chain = RetrievalQA.from_chain_type(\n",
        "    model,\n",
        "    retriever=vector_index,\n",
        "    return_source_documents=True\n",
        "\n",
        ")"
      ],
      "metadata": {
        "id": "a3CrM0l3Hc__"
      },
      "execution_count": null,
      "outputs": []
    },
    {
      "cell_type": "code",
      "source": [
        "question = \"Describe the Multi-head attention layer in detail?\"\n",
        "result = qa_chain({\"query\": question})\n",
        "result[\"result\"]"
      ],
      "metadata": {
        "id": "C683CMhDHtA8"
      },
      "execution_count": null,
      "outputs": []
    },
    {
      "cell_type": "code",
      "source": [
        "Markdown(result[\"result\"])"
      ],
      "metadata": {
        "id": "gR9NB2OLIp7I"
      },
      "execution_count": null,
      "outputs": []
    },
    {
      "cell_type": "code",
      "source": [
        "result[\"source_documents\"]"
      ],
      "metadata": {
        "id": "_JExbG1VNcDZ"
      },
      "execution_count": null,
      "outputs": []
    },
    {
      "cell_type": "code",
      "source": [
        "template = \"\"\"Use the following pieces of context to answer the question at the end. If you don't know the answer, just say that you don't know, don't try to make up an answer. Keep the answer as concise as possible. Always say \"thanks for asking!\" at the end of the answer.\n",
        "{context}\n",
        "Question: {question}\n",
        "Helpful Answer:\"\"\"\n",
        "QA_CHAIN_PROMPT = PromptTemplate.from_template(template)# Run chain\n",
        "qa_chain = RetrievalQA.from_chain_type(\n",
        "    model,\n",
        "    retriever=vector_index,\n",
        "    return_source_documents=True,\n",
        "    chain_type_kwargs={\"prompt\": QA_CHAIN_PROMPT}\n",
        ")\n"
      ],
      "metadata": {
        "id": "TGFjxwzcUb02"
      },
      "execution_count": null,
      "outputs": []
    },
    {
      "cell_type": "code",
      "source": [
        "question = \"Describe the Multi-head attention layer in detail?\"\n",
        "result = qa_chain({\"query\": question})\n",
        "result[\"result\"]"
      ],
      "metadata": {
        "id": "og-CJ7iaMYJe"
      },
      "execution_count": null,
      "outputs": []
    },
    {
      "cell_type": "code",
      "source": [
        "Markdown(result[\"result\"])"
      ],
      "metadata": {
        "id": "BwZpAwFWMbor"
      },
      "execution_count": null,
      "outputs": []
    },
    {
      "cell_type": "code",
      "source": [
        "question = \"Describe Random forest?\"\n",
        "result = qa_chain({\"query\": question})\n",
        "Markdown(result[\"result\"])"
      ],
      "metadata": {
        "id": "CFNBXo0kJKkA"
      },
      "execution_count": null,
      "outputs": []
    },
    {
      "cell_type": "code",
      "source": [],
      "metadata": {
        "id": "5lJFkMALJSe9"
      },
      "execution_count": null,
      "outputs": []
    }
  ]
}